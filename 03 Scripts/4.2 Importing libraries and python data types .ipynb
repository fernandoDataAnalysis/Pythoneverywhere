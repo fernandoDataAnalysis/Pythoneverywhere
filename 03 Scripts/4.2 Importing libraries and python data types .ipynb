{
 "cells": [
  {
   "cell_type": "markdown",
   "id": "a0a2661d",
   "metadata": {},
   "source": [
    "# 01. Importing libraries"
   ]
  },
  {
   "cell_type": "code",
   "execution_count": 1,
   "id": "c812a08a",
   "metadata": {},
   "outputs": [],
   "source": [
    "# Import libraries\n",
    "import pandas as pd\n",
    "import numpy as np\n",
    "import os"
   ]
  },
  {
   "cell_type": "markdown",
   "id": "929c0ea5",
   "metadata": {},
   "source": [
    "# 02. Data Types"
   ]
  },
  {
   "cell_type": "markdown",
   "id": "048e7342",
   "metadata": {},
   "source": [
    "## 3 different ways of reaching 100 (int)"
   ]
  },
  {
   "cell_type": "code",
   "execution_count": 4,
   "id": "d524a7d6",
   "metadata": {},
   "outputs": [],
   "source": [
    "x = 5"
   ]
  },
  {
   "cell_type": "code",
   "execution_count": 5,
   "id": "e2ac6258",
   "metadata": {},
   "outputs": [
    {
     "name": "stdout",
     "output_type": "stream",
     "text": [
      "5\n"
     ]
    }
   ],
   "source": [
    "print (x)"
   ]
  },
  {
   "cell_type": "code",
   "execution_count": 6,
   "id": "b9cb1ce8",
   "metadata": {},
   "outputs": [
    {
     "data": {
      "text/plain": [
       "100"
      ]
     },
     "execution_count": 6,
     "metadata": {},
     "output_type": "execute_result"
    }
   ],
   "source": [
    "x + 95"
   ]
  },
  {
   "cell_type": "code",
   "execution_count": 9,
   "id": "aa6ab07f",
   "metadata": {},
   "outputs": [],
   "source": [
    "y = 95 "
   ]
  },
  {
   "cell_type": "code",
   "execution_count": 10,
   "id": "b6ad6ebb",
   "metadata": {},
   "outputs": [
    {
     "data": {
      "text/plain": [
       "100"
      ]
     },
     "execution_count": 10,
     "metadata": {},
     "output_type": "execute_result"
    }
   ],
   "source": [
    "x + y "
   ]
  },
  {
   "cell_type": "code",
   "execution_count": 11,
   "id": "bfbe3cb9",
   "metadata": {},
   "outputs": [],
   "source": [
    "z = 195"
   ]
  },
  {
   "cell_type": "code",
   "execution_count": 12,
   "id": "ebac56d5",
   "metadata": {},
   "outputs": [
    {
     "data": {
      "text/plain": [
       "100"
      ]
     },
     "execution_count": 12,
     "metadata": {},
     "output_type": "execute_result"
    }
   ],
   "source": [
    "z - y "
   ]
  },
  {
   "cell_type": "code",
   "execution_count": 19,
   "id": "1dfadcaf",
   "metadata": {},
   "outputs": [],
   "source": [
    "t = z - y"
   ]
  },
  {
   "cell_type": "code",
   "execution_count": 20,
   "id": "becef3e7",
   "metadata": {},
   "outputs": [
    {
     "name": "stdout",
     "output_type": "stream",
     "text": [
      "100\n"
     ]
    }
   ],
   "source": [
    "print(t)"
   ]
  },
  {
   "cell_type": "markdown",
   "id": "35443189",
   "metadata": {},
   "source": [
    "## float numbers"
   ]
  },
  {
   "cell_type": "code",
   "execution_count": 14,
   "id": "2640970a",
   "metadata": {},
   "outputs": [],
   "source": [
    "v = 10.5"
   ]
  },
  {
   "cell_type": "code",
   "execution_count": 15,
   "id": "66a33f68",
   "metadata": {},
   "outputs": [],
   "source": [
    "w = 2.5"
   ]
  },
  {
   "cell_type": "code",
   "execution_count": 16,
   "id": "a1e49b49",
   "metadata": {},
   "outputs": [
    {
     "data": {
      "text/plain": [
       "4.2"
      ]
     },
     "execution_count": 16,
     "metadata": {},
     "output_type": "execute_result"
    }
   ],
   "source": [
    "v / w"
   ]
  },
  {
   "cell_type": "code",
   "execution_count": 17,
   "id": "864460e0",
   "metadata": {},
   "outputs": [
    {
     "data": {
      "text/plain": [
       "float"
      ]
     },
     "execution_count": 17,
     "metadata": {},
     "output_type": "execute_result"
    }
   ],
   "source": [
    "type(v)"
   ]
  },
  {
   "cell_type": "code",
   "execution_count": 18,
   "id": "4f41010d",
   "metadata": {},
   "outputs": [
    {
     "data": {
      "text/plain": [
       "int"
      ]
     },
     "execution_count": 18,
     "metadata": {},
     "output_type": "execute_result"
    }
   ],
   "source": [
    "type(z)"
   ]
  },
  {
   "cell_type": "markdown",
   "id": "2616fd38",
   "metadata": {},
   "source": [
    "## short word made of separate strings "
   ]
  },
  {
   "cell_type": "code",
   "execution_count": 21,
   "id": "2420a85c",
   "metadata": {},
   "outputs": [],
   "source": [
    "a = \"Hel\""
   ]
  },
  {
   "cell_type": "code",
   "execution_count": 22,
   "id": "4864cf81",
   "metadata": {},
   "outputs": [],
   "source": [
    "b = \"lo\""
   ]
  },
  {
   "cell_type": "code",
   "execution_count": 23,
   "id": "a6880748",
   "metadata": {},
   "outputs": [
    {
     "data": {
      "text/plain": [
       "'Hello'"
      ]
     },
     "execution_count": 23,
     "metadata": {},
     "output_type": "execute_result"
    }
   ],
   "source": [
    "a + b"
   ]
  },
  {
   "cell_type": "markdown",
   "id": "f4cbad64",
   "metadata": {},
   "source": [
    "## Construct 2 short sentences made of separate strings"
   ]
  },
  {
   "cell_type": "code",
   "execution_count": 24,
   "id": "3e0a3e33",
   "metadata": {},
   "outputs": [],
   "source": [
    "c = \"You are \""
   ]
  },
  {
   "cell_type": "code",
   "execution_count": 25,
   "id": "dbece1de",
   "metadata": {},
   "outputs": [],
   "source": [
    "d = \"welcome\""
   ]
  },
  {
   "cell_type": "code",
   "execution_count": 26,
   "id": "0e7d35f8",
   "metadata": {},
   "outputs": [
    {
     "data": {
      "text/plain": [
       "'You are welcome'"
      ]
     },
     "execution_count": 26,
     "metadata": {},
     "output_type": "execute_result"
    }
   ],
   "source": [
    "c + d"
   ]
  },
  {
   "cell_type": "code",
   "execution_count": 29,
   "id": "09c27756",
   "metadata": {},
   "outputs": [],
   "source": [
    "e = \"how are \""
   ]
  },
  {
   "cell_type": "code",
   "execution_count": 31,
   "id": "78595837",
   "metadata": {},
   "outputs": [],
   "source": [
    "f = \"you?\""
   ]
  },
  {
   "cell_type": "code",
   "execution_count": 32,
   "id": "1a49e06a",
   "metadata": {},
   "outputs": [
    {
     "data": {
      "text/plain": [
       "'how are you?'"
      ]
     },
     "execution_count": 32,
     "metadata": {},
     "output_type": "execute_result"
    }
   ],
   "source": [
    "e + f "
   ]
  },
  {
   "cell_type": "code",
   "execution_count": null,
   "id": "28af8eb3",
   "metadata": {},
   "outputs": [],
   "source": []
  }
 ],
 "metadata": {
  "kernelspec": {
   "display_name": "Python 3 (ipykernel)",
   "language": "python",
   "name": "python3"
  },
  "language_info": {
   "codemirror_mode": {
    "name": "ipython",
    "version": 3
   },
   "file_extension": ".py",
   "mimetype": "text/x-python",
   "name": "python",
   "nbconvert_exporter": "python",
   "pygments_lexer": "ipython3",
   "version": "3.9.7"
  }
 },
 "nbformat": 4,
 "nbformat_minor": 5
}
